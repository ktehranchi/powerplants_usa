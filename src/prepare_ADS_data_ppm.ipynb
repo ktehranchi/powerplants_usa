{
 "cells": [
  {
   "cell_type": "code",
   "execution_count": 2,
   "metadata": {},
   "outputs": [
    {
     "ename": "ImportError",
     "evalue": "cannot import name 'load_eia_data' from 'utils' (/Users/kamrantehranchi/Local_Documents/powerplants_usa/src/utils.py)",
     "output_type": "error",
     "traceback": [
      "\u001b[0;31m---------------------------------------------------------------------------\u001b[0m",
      "\u001b[0;31mImportError\u001b[0m                               Traceback (most recent call last)",
      "Cell \u001b[0;32mIn[2], line 5\u001b[0m\n\u001b[1;32m      3\u001b[0m \u001b[38;5;28;01mimport\u001b[39;00m \u001b[38;5;21;01mnumpy\u001b[39;00m \u001b[38;5;28;01mas\u001b[39;00m \u001b[38;5;21;01mnp\u001b[39;00m\n\u001b[1;32m      4\u001b[0m \u001b[38;5;28;01mimport\u001b[39;00m \u001b[38;5;21;01mre\u001b[39;00m\n\u001b[0;32m----> 5\u001b[0m \u001b[38;5;28;01mfrom\u001b[39;00m \u001b[38;5;21;01mutils\u001b[39;00m \u001b[38;5;28;01mimport\u001b[39;00m load_eia_data\n",
      "\u001b[0;31mImportError\u001b[0m: cannot import name 'load_eia_data' from 'utils' (/Users/kamrantehranchi/Local_Documents/powerplants_usa/src/utils.py)"
     ]
    }
   ],
   "source": [
    "import os\n",
    "import pandas as pd\n",
    "import numpy as np\n",
    "import re\n",
    "from utils import load_eia_data"
   ]
  },
  {
   "cell_type": "markdown",
   "metadata": {},
   "source": [
    "### Load EIA Data"
   ]
  },
  {
   "cell_type": "code",
   "execution_count": null,
   "metadata": {},
   "outputs": [],
   "source": [
    "eia_data_operable, eia_storage, eia_loc, eia_plants_locs = load_eia_data(filter_region= \"WECC\",base_dir = '../..')"
   ]
  },
  {
   "cell_type": "markdown",
   "metadata": {},
   "source": [
    "Goal is to have only ADS referenced generators in the network. Only need for EIA database is the locations"
   ]
  },
  {
   "cell_type": "markdown",
   "metadata": {},
   "source": [
    "### Load ADS Generator List, Thermal General Info, and IOCurves.\n",
    "Merge tables on various IDS"
   ]
  },
  {
   "cell_type": "code",
   "execution_count": null,
   "metadata": {},
   "outputs": [],
   "source": [
    "ADS_PATH = os.path.join('../../data/WECC_ADS/downloads/2032/Public Data')\n",
    "ads_thermal= pd.read_csv(ADS_PATH + '/Thermal_General_Info.csv',skiprows=1, )#encoding='unicode_escape')\n",
    "ads_thermal = ads_thermal[['GeneratorName', ' Turbine Type', 'Model Type', 'MustRun',\n",
    "       'MinimumDownTime(hr)', 'MinimumUpTime(hr)', 'MaxUpTime(hr)',\n",
    "       'Generic Ramp Rate Name', 'RampUp Rate(MW/minute)',\n",
    "       'RampDn Rate(MW/minute)', 'Startup Cost Fixed($)', 'StartFuel(MMBTu)', 'Startup Time',\n",
    "       'VOM Cost']]\n",
    "\n",
    "# Combine IOC data with the General Thermal Plant Data\n",
    "ads_ioc= pd.read_csv(ADS_PATH + '/Thermal_IOCurve_Info.csv',skiprows=1, ).rename(columns={'Generator Name':'GeneratorName'})\n",
    "ads_ioc = ads_ioc[[\n",
    "       'GeneratorName', 'IOMaxCap(MW)','IOMinCap(MW)', 'MinInput(MMBTu)', \n",
    "       'IncCap2(MW)','IncHR2(MMBTu/MWh)','IncCap3(MW)', 'IncHR3(MMBTu/MWh)', \n",
    "       'IncCap4(MW)','IncHR4(MMBTu/MWh)','IncCap5(MW)', 'IncHR5(MMBTu/MWh)',\n",
    "       'IncCap6(MW)','IncHR6(MMBTu/MWh)','IncCap7(MW)', 'IncHR7(MMBTu/MWh)']]\n",
    "\n",
    "#Replacing heat rates with 0 with NaN\n",
    "ads_ioc['IncHR2(MMBTu/MWh)'] = ads_ioc['IncHR2(MMBTu/MWh)'].replace(0, np.nan)\n",
    "\n",
    "print('Size of thermal generator data: ', ads_thermal.shape)\n",
    "print('Size of IOC generator data: ', ads_ioc.shape)\n",
    "thermal_plant_data = pd.merge(ads_thermal, ads_ioc, on='GeneratorName', how='left')\n",
    "thermal_plant_data"
   ]
  },
  {
   "cell_type": "code",
   "execution_count": null,
   "metadata": {},
   "outputs": [],
   "source": [
    "#loading ads to match ads_name with generator key in order to link with ads thermal file\n",
    "ads= pd.read_csv(ADS_PATH + '/GeneratorList.csv',skiprows=2, encoding='unicode_escape')\n",
    "ads['Long Name'] = ads['Long Name'].astype(str)\n",
    "ads.rename({'Name': 'ads_name', 'Long Name': 'ads_long_name',\n",
    "             'SubType': 'subtype','Commission Date':'commission_date',\n",
    "             'Retirement Date':'retirement_date','Area Name':'balancing_area'},\n",
    "               axis=1, inplace=True)\n",
    "ads.rename(str.lower, axis='columns', inplace=True)\n",
    "ads['long id'] = ads['long id'].astype(str)\n",
    "ads['tech_type'] = ads['fueltype'] + \"_\" + ads['technology']\n",
    "ads_name_key_dict = dict(zip(ads['ads_name'], ads['generatorkey']))\n",
    "print('Size of ads data: ', ads.shape)\n",
    "\n",
    "\n",
    "# # Merge ads data with renewable plant data\n",
    "cols = ['GeneratorKey', 'GeneratorName', 'Type',\n",
    "       'DispatchShapeName', 'DispatchMultiplier', 'Capacity(MW)',\n",
    "       ]\n",
    "ads_hourly = pd.read_csv(ADS_PATH + '/HourlyResource_General.csv', skiprows=2,  encoding='unicode_escape')[cols]\n",
    "ads_hourly.rename(columns={'Capacity(MW)': 'capacity_hourly_rsc'}, inplace=True)\n",
    "# # Check if DispatchMultiplier is within 10 of Capacity(MW)\n",
    "# tolerance = 100\n",
    "# diff = abs(ads_hourly['DispatchMultiplier'] - ads_hourly['Capacity(MW)'])\n",
    "# within_tolerance = (diff <= tolerance)\n",
    "# ads_hourly[~within_tolerance]\n",
    "ads = pd.merge(ads,ads_hourly.drop_duplicates(subset=['GeneratorName']), left_on='ads_name', right_on='GeneratorName', how='left')\n",
    "print(\"Size of ads data: \", ads.shape)"
   ]
  },
  {
   "cell_type": "code",
   "execution_count": null,
   "metadata": {},
   "outputs": [],
   "source": [
    "ads_thermal = pd.merge(ads, thermal_plant_data, left_on='ads_name', right_on='GeneratorName', how='left')"
   ]
  },
  {
   "cell_type": "code",
   "execution_count": null,
   "metadata": {},
   "outputs": [],
   "source": [
    "eia_ads_mapping = pd.read_csv('../../repo_data/eia_mappings/eia_ads_generator_mapping_updated.csv')\n",
    "cols = ['generatorkey', 'plant_id_eia', 'lat', 'lon']\n",
    "ads_thermal_locs = pd.merge(ads_thermal, eia_ads_mapping[cols], on= 'generatorkey', how='inner')\n",
    "print(\"Percent of Plant Locations Matched: \", round(100*ads_thermal_locs.shape[0]/ads_thermal.shape[0], 2), \"%\")\n",
    "print(\"Percent of Capacity Matched: \", round(100*ads_thermal_locs['maxcap(mw)'].sum()/ads_thermal['maxcap(mw)'].sum(), 2), \"%\")\n",
    "ads_thermal_locs"
   ]
  },
  {
   "cell_type": "code",
   "execution_count": null,
   "metadata": {},
   "outputs": [],
   "source": [
    "#Assign locations to the Buses which we know the location of from other matches\n",
    "bus_name_locs = ads_thermal_locs[['bus name', 'lat', 'lon']].groupby(['bus name']).mean().reset_index()\n",
    "ads_unmatched = ads_thermal[~ads_thermal['generatorkey'].isin(ads_thermal_locs['generatorkey'])]\n",
    "ads_unmatched_buses_known = ads_unmatched[ads_unmatched['bus name'].isin(bus_name_locs['bus name'])]\n",
    "ads_unmatched_buses_known['lat'] = ads_unmatched_buses_known['bus name'].map(bus_name_locs.set_index('bus name')['lat'])\n",
    "ads_unmatched_buses_known['lon'] = ads_unmatched_buses_known['bus name'].map(bus_name_locs.set_index('bus name')['lon'])\n",
    "ads_unmatched_buses_known\n",
    "ads_thermal_locs = pd.concat([ads_thermal_locs, ads_unmatched_buses_known])\n",
    "print(\"Percent of plants located: \", round(100*len(ads_thermal_locs)/len(ads_thermal),2), \"%\")\n",
    "print(\"Percent of Capacity Matched: \", round(100*ads_thermal_locs['maxcap(mw)'].sum()/ads_thermal['maxcap(mw)'].sum(), 2), \"%\")\n",
    "ads_thermal_locs\n"
   ]
  },
  {
   "cell_type": "code",
   "execution_count": null,
   "metadata": {},
   "outputs": [],
   "source": [
    "ads_non_usa"
   ]
  },
  {
   "cell_type": "code",
   "execution_count": null,
   "metadata": {},
   "outputs": [],
   "source": [
    "# Concat the Non-US Plants which we know location of external bus\n",
    "ads_unmatched = ads_thermal[~ads_thermal['generatorkey'].isin(ads_thermal_locs['generatorkey'])]\n",
    "BA_known = ['AESO', 'BCHA', 'CFE']\n",
    "ads_non_usa = ads_unmatched[ads_unmatched['balancing_area'].isin(BA_known)]\n",
    "\n",
    "#Set Location of the external Buses\n",
    "ads_non_usa['lat'] = ads_non_usa['balancing_area'].map({'AESO': 53.5461, 'BCHA': 49.2827, 'CFE': 31.85437})\n",
    "ads_non_usa['lon'] = ads_non_usa['balancing_area'].map({'AESO': -113.4938, 'BCHA': -123.1207, 'CFE': -115.90479})\n",
    "\n",
    "# Concat the Non-US Plants which we know location of external bus\n",
    "ads_thermal_locs = pd.concat([ads_thermal_locs, ads_non_usa])\n",
    "print(\"Precent of plants in known balancing areas: \", round(100*len(ads_non_usa)/len(ads_thermal),2), \"%\")\n",
    "print(\"Percent of plants with Locs: \", round(100*len(ads_thermal_locs)/len(ads_thermal),2), \"%\")\n",
    "print(\"Percent of plant Capacity: \", round(100*ads_thermal_locs['maxcap(mw)'].sum()/ads_thermal['maxcap(mw)'].sum(), 2), \"%\")"
   ]
  },
  {
   "cell_type": "code",
   "execution_count": null,
   "metadata": {},
   "outputs": [],
   "source": [
    "ads_thermal_locs.to_csv('ads_thermal_locs.csv', index=False)"
   ]
  },
  {
   "cell_type": "code",
   "execution_count": null,
   "metadata": {},
   "outputs": [],
   "source": [
    "ads_unmatched = ads_thermal[~ads_thermal['generatorkey'].isin(ads_thermal_locs['generatorkey'])]\n",
    "ads_unmatched = ads_unmatched.sort_values(by='maxcap(mw)', ascending=False)\n",
    "ads_unmatched.to_csv('ads_unmatched.csv', index=False)\n",
    "ads_unmatched"
   ]
  },
  {
   "cell_type": "code",
   "execution_count": null,
   "metadata": {},
   "outputs": [],
   "source": [
    "# from geopy.geocoders import Nominatim\n",
    "\n",
    "# geolocator = Nominatim(user_agent=\"my_app\")\n",
    "\n",
    "# def get_lat_long(address):\n",
    "#     location = geolocator.geocode(address)\n",
    "#     if location:\n",
    "#         return location.latitude, location.longitude\n",
    "#     else:\n",
    "#         return None\n",
    "\n",
    "\n",
    "# ads_address = ads_unmatched[~ads_unmatched.county.isna()]\n",
    "# addresses = ads_address.county + \", \" + ads_address.state\n",
    "# ads_address['lat'] = addresses.apply(lambda x: get_lat_long(x)[0] if get_lat_long(x) else None)\n",
    "# ads_address['lon'] = addresses.apply(lambda x: get_lat_long(x)[1] if get_lat_long(x) else None)\n",
    "# ads_address"
   ]
  },
  {
   "cell_type": "code",
   "execution_count": null,
   "metadata": {},
   "outputs": [],
   "source": [
    "ads_unmatched"
   ]
  },
  {
   "cell_type": "code",
   "execution_count": null,
   "metadata": {},
   "outputs": [],
   "source": [
    "import matplotlib.pyplot as plt\n",
    "\n",
    "plt.hist(ads_unmatched['maxcap(mw)'],bins=50)\n",
    "plt.xlabel('Capacity (MW)')\n",
    "plt.ylabel('Frequency')\n",
    "plt.title('Histogram of Power Plant Capacity')\n",
    "plt.show()\n"
   ]
  },
  {
   "cell_type": "markdown",
   "metadata": {},
   "source": [
    "### Final HotFixes and Exporting"
   ]
  },
  {
   "cell_type": "code",
   "execution_count": null,
   "metadata": {},
   "outputs": [],
   "source": [
    "# Hot fix for mis-labeled wind plant \n",
    "ads_thermal_locs.loc[ads_thermal_locs.ads_name == 'Voyager Wind 1_3','fueltype'] = 'Wind'\n",
    "ads_thermal_locs.loc[ads_thermal_locs.ads_name == 'Dracker Solar Unit 3 BESS','fueltype'] = 'battery'\n",
    "ads_thermal_locs.loc[ads_thermal_locs.ads_name == 'Taos Mesa Storage','fueltype'] = 'battery'\n",
    "ads_thermal_locs.fueltype.unique()"
   ]
  },
  {
   "cell_type": "code",
   "execution_count": null,
   "metadata": {},
   "outputs": [],
   "source": [
    "ads_plants_locs = pd.concat([ads_thermal_locs, ads_unmatched])\n",
    "ads_plants_locs.to_csv('../../repo_data/ads_plants_locs.csv', index=False)\n",
    "ads_plants_locs"
   ]
  },
  {
   "cell_type": "code",
   "execution_count": null,
   "metadata": {},
   "outputs": [],
   "source": [
    "import matplotlib.pyplot as plt\n",
    "\n",
    "# First pie chart\n",
    "subtype_counts = ads_thermal_locs['subtype'].value_counts()\n",
    "subtype_counts.plot(kind='pie', autopct=lambda x: f'{int(x/100 * len(ads_unmatched))} ({x:.1f}%)' if x/100 * len(ads_unmatched) > 50 else '')\n",
    "plt.title('ADS Matched by Subtype')\n",
    "plt.show()\n",
    "\n",
    "\n",
    "# Pie chart of maxcap(mw) of each subtype of plant\n",
    "subtype_maxcap = ads_thermal_locs.groupby('subtype')['maxcap(mw)'].sum()\n",
    "subtype_maxcap.plot(kind='pie', autopct='%1.1f%%')\n",
    "plt.title('ADS Matched Capacity by Subtype')\n",
    "plt.show()\n"
   ]
  },
  {
   "cell_type": "code",
   "execution_count": null,
   "metadata": {},
   "outputs": [],
   "source": [
    "import matplotlib.pyplot as plt\n",
    "\n",
    "# First pie chart\n",
    "subtype_counts = ads_unmatched['subtype'].value_counts()\n",
    "subtype_counts.plot(kind='pie', autopct=lambda x: f'{int(x/100 * len(ads_unmatched))} ({x:.1f}%)' if x/100 * len(ads_unmatched) > 50 else '')\n",
    "plt.title('ADS Unmatched by Subtype')\n",
    "plt.show()\n",
    "\n",
    "# Second pie chart\n",
    "ba_counts = ads_unmatched['balancing_area'].value_counts()\n",
    "ba_counts.plot(kind='pie', autopct='%1.1f%%')\n",
    "plt.title('ADS Unmatched by Balancing Area')\n",
    "plt.show()\n"
   ]
  },
  {
   "cell_type": "code",
   "execution_count": null,
   "metadata": {},
   "outputs": [],
   "source": [
    "#filter subtype dg-btm\n",
    "filt = ['DG-BTM']\n",
    "ads_unmatched[~ads_unmatched['subtype'].isin(filt)]"
   ]
  },
  {
   "cell_type": "code",
   "execution_count": null,
   "metadata": {},
   "outputs": [],
   "source": []
  }
 ],
 "metadata": {
  "kernelspec": {
   "display_name": "pudl",
   "language": "python",
   "name": "python3"
  },
  "language_info": {
   "codemirror_mode": {
    "name": "ipython",
    "version": 3
   },
   "file_extension": ".py",
   "mimetype": "text/x-python",
   "name": "python",
   "nbconvert_exporter": "python",
   "pygments_lexer": "ipython3",
   "version": "3.11.8"
  },
  "orig_nbformat": 4
 },
 "nbformat": 4,
 "nbformat_minor": 2
}
